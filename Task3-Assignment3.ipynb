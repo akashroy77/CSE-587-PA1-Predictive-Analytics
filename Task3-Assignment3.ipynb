{
 "cells": [
  {
   "cell_type": "code",
   "execution_count": 1,
   "metadata": {},
   "outputs": [],
   "source": [
    "import findspark"
   ]
  },
  {
   "cell_type": "code",
   "execution_count": 2,
   "metadata": {},
   "outputs": [],
   "source": [
    "findspark.init(\"E:/Spark/spark-2.4.5-bin-hadoop2.7\")"
   ]
  },
  {
   "cell_type": "code",
   "execution_count": 3,
   "metadata": {},
   "outputs": [],
   "source": [
    "import pyspark"
   ]
  },
  {
   "cell_type": "code",
   "execution_count": 4,
   "metadata": {},
   "outputs": [],
   "source": [
    "import pandas as pd\n",
    "from pyspark.sql import *"
   ]
  },
  {
   "cell_type": "code",
   "execution_count": 5,
   "metadata": {},
   "outputs": [],
   "source": [
    "MAX_MEMORY = '6g'\n",
    "spark_session = SparkSession.builder \\\n",
    "    .master(\"local\") \\\n",
    "    .appName(\"Task 3\") \\\n",
    "    .config(\"spark.executor.memory\", MAX_MEMORY) \\\n",
    "    .config(\"spark.driver.memory\", MAX_MEMORY)\\\n",
    "    .getOrCreate()"
   ]
  },
  {
   "cell_type": "code",
   "execution_count": 6,
   "metadata": {},
   "outputs": [
    {
     "data": {
      "text/html": [
       "<div>\n",
       "<style scoped>\n",
       "    .dataframe tbody tr th:only-of-type {\n",
       "        vertical-align: middle;\n",
       "    }\n",
       "\n",
       "    .dataframe tbody tr th {\n",
       "        vertical-align: top;\n",
       "    }\n",
       "\n",
       "    .dataframe thead th {\n",
       "        text-align: right;\n",
       "    }\n",
       "</style>\n",
       "<table border=\"1\" class=\"dataframe\">\n",
       "  <thead>\n",
       "    <tr style=\"text-align: right;\">\n",
       "      <th></th>\n",
       "      <th>movie_id</th>\n",
       "      <th>movie_name</th>\n",
       "      <th>plot</th>\n",
       "      <th>genre</th>\n",
       "    </tr>\n",
       "  </thead>\n",
       "  <tbody>\n",
       "    <tr>\n",
       "      <th>0</th>\n",
       "      <td>23890098</td>\n",
       "      <td>Taxi Blues</td>\n",
       "      <td>Shlykov, a hard-working taxi driver and Lyosha...</td>\n",
       "      <td>['World cinema', 'Drama']</td>\n",
       "    </tr>\n",
       "    <tr>\n",
       "      <th>1</th>\n",
       "      <td>31186339</td>\n",
       "      <td>The Hunger Games</td>\n",
       "      <td>The nation of Panem consists of a wealthy Capi...</td>\n",
       "      <td>['Action/Adventure', 'Action', 'Science Fictio...</td>\n",
       "    </tr>\n",
       "    <tr>\n",
       "      <th>2</th>\n",
       "      <td>20663735</td>\n",
       "      <td>Narasimham</td>\n",
       "      <td>Poovalli Induchoodan  is sentenced for six yea...</td>\n",
       "      <td>['Musical', 'Action', 'Drama']</td>\n",
       "    </tr>\n",
       "    <tr>\n",
       "      <th>3</th>\n",
       "      <td>2231378</td>\n",
       "      <td>The Lemon Drop Kid</td>\n",
       "      <td>The Lemon Drop Kid , a New York City swindler,...</td>\n",
       "      <td>['Comedy']</td>\n",
       "    </tr>\n",
       "    <tr>\n",
       "      <th>4</th>\n",
       "      <td>595909</td>\n",
       "      <td>A Cry in the Dark</td>\n",
       "      <td>Seventh-day Adventist Church pastor Michael Ch...</td>\n",
       "      <td>['Crime Fiction', 'World cinema', 'Drama']</td>\n",
       "    </tr>\n",
       "  </tbody>\n",
       "</table>\n",
       "</div>"
      ],
      "text/plain": [
       "   movie_id          movie_name  \\\n",
       "0  23890098          Taxi Blues   \n",
       "1  31186339    The Hunger Games   \n",
       "2  20663735          Narasimham   \n",
       "3   2231378  The Lemon Drop Kid   \n",
       "4    595909   A Cry in the Dark   \n",
       "\n",
       "                                                plot  \\\n",
       "0  Shlykov, a hard-working taxi driver and Lyosha...   \n",
       "1  The nation of Panem consists of a wealthy Capi...   \n",
       "2  Poovalli Induchoodan  is sentenced for six yea...   \n",
       "3  The Lemon Drop Kid , a New York City swindler,...   \n",
       "4  Seventh-day Adventist Church pastor Michael Ch...   \n",
       "\n",
       "                                               genre  \n",
       "0                          ['World cinema', 'Drama']  \n",
       "1  ['Action/Adventure', 'Action', 'Science Fictio...  \n",
       "2                     ['Musical', 'Action', 'Drama']  \n",
       "3                                         ['Comedy']  \n",
       "4         ['Crime Fiction', 'World cinema', 'Drama']  "
      ]
     },
     "execution_count": 6,
     "metadata": {},
     "output_type": "execute_result"
    }
   ],
   "source": [
    "import pandas as pd\n",
    "df = pd.read_csv(\"./train.csv\", delimiter = \",\")\n",
    "df.head(5)"
   ]
  },
  {
   "cell_type": "code",
   "execution_count": 7,
   "metadata": {},
   "outputs": [
    {
     "name": "stdout",
     "output_type": "stream",
     "text": [
      "+--------+--------------------+--------------------+--------------------+\n",
      "|movie_id|          movie_name|                plot|               genre|\n",
      "+--------+--------------------+--------------------+--------------------+\n",
      "|23890098|          Taxi Blues|Shlykov, a hard-w...|['World cinema', ...|\n",
      "|31186339|    The Hunger Games|The nation of Pan...|['Action/Adventur...|\n",
      "|20663735|          Narasimham|Poovalli Induchoo...|['Musical', 'Acti...|\n",
      "| 2231378|  The Lemon Drop Kid|The Lemon Drop Ki...|          ['Comedy']|\n",
      "|  595909|   A Cry in the Dark|Seventh-day Adven...|['Crime Fiction',...|\n",
      "| 5272176|            End Game|The president is ...|['Action/Adventur...|\n",
      "| 1952976|          Dark Water|{{plot}} The film...|['Thriller', 'Dra...|\n",
      "|24225279|                Sing|The story begins ...|           ['Drama']|\n",
      "| 2462689|       Meet John Doe|Infuriated at bei...|['Black-and-white...|\n",
      "|20532852|Destination Meatball|A line of people ...|['Animation', 'Sh...|\n",
      "|15401493|    Husband for Hire|Lola  attempts to...|          ['Comedy']|\n",
      "|18188932|         Up and Down|Milan and Goran a...|['Crime Fiction',...|\n",
      "| 2940516|Ghost In The Noon...|Bumbling pirate c...|          ['Comedy']|\n",
      "| 1480747|       House Party 2|{{plot}} Followin...|          ['Comedy']|\n",
      "|24448645|Forest of the Dam...|Despite Lucy's re...|          ['Horror']|\n",
      "|15072401|Charlie Chan's Se...|Alan Colby, heir ...|['Crime Fiction',...|\n",
      "| 4018288|     The Biggest Fan|Debbie's favorite...|           ['Drama']|\n",
      "| 4596602|      Ashes to Ashes|Ashes to Ashes is...|['Crime Fiction',...|\n",
      "|15224586|        Green Dragon|The film follows ...|  ['Indie', 'Drama']|\n",
      "|15585766|  The Rats of Tobruk|Three friends are...|           ['Drama']|\n",
      "+--------+--------------------+--------------------+--------------------+\n",
      "only showing top 20 rows\n",
      "\n"
     ]
    }
   ],
   "source": [
    "sdf1 = spark_session.createDataFrame(df)\n",
    "sdf1.show()"
   ]
  },
  {
   "cell_type": "code",
   "execution_count": 8,
   "metadata": {},
   "outputs": [],
   "source": [
    "from pyspark.sql.functions import *\n",
    "new= sdf1.withColumn('plot', regexp_replace('plot', '[{.*}]', ''))\\\n",
    "            .withColumn('plot', regexp_replace('plot', 'plot', '')) \\\n",
    "            .withColumn('plot', regexp_replace('plot', '[\\(\\)]',''))\\\n",
    "            .withColumn('plot', regexp_replace('plot', '[\\[\\]]', '')) \\\n",
    "            .withColumn('genre', regexp_replace('genre', '[\\[\\]]', '')) \\\n",
    "            .withColumn('plot', regexp_replace('plot',',',''))\\\n",
    "            .withColumn('genre', regexp_replace('genre', '[\\']', ''))\\\n",
    "            .withColumn('genre', regexp_replace('genre',' ', ''))\n"
   ]
  },
  {
   "cell_type": "code",
   "execution_count": 9,
   "metadata": {},
   "outputs": [
    {
     "name": "stdout",
     "output_type": "stream",
     "text": [
      "+--------+--------------------+--------------------+--------------------+\n",
      "|movie_id|          movie_name|                plot|               genre|\n",
      "+--------+--------------------+--------------------+--------------------+\n",
      "|23890098|          Taxi Blues|Shlykov a hard-wo...|   Worldcinema,Drama|\n",
      "|31186339|    The Hunger Games|The nation of Pan...|Action/Adventure,...|\n",
      "|20663735|          Narasimham|Poovalli Induchoo...|Musical,Action,Drama|\n",
      "| 2231378|  The Lemon Drop Kid|The Lemon Drop Ki...|              Comedy|\n",
      "|  595909|   A Cry in the Dark|Seventh-day Adven...|CrimeFiction,Worl...|\n",
      "| 5272176|            End Game|The president is ...|Action/Adventure,...|\n",
      "| 1952976|          Dark Water| The film opens i...|Thriller,Drama,Ho...|\n",
      "|24225279|                Sing|The story begins ...|               Drama|\n",
      "| 2462689|       Meet John Doe|Infuriated at bei...|Black-and-white,C...|\n",
      "|20532852|Destination Meatball|A line of people ...|Animation,ShortFi...|\n",
      "|15401493|    Husband for Hire|Lola  attempts to...|              Comedy|\n",
      "|18188932|         Up and Down|Milan and Goran a...|CrimeFiction,Come...|\n",
      "| 2940516|Ghost In The Noon...|Bumbling pirate c...|              Comedy|\n",
      "| 1480747|       House Party 2| Following the su...|              Comedy|\n",
      "|24448645|Forest of the Dam...|Despite Lucy's re...|              Horror|\n",
      "|15072401|Charlie Chan's Se...|Alan Colby heir t...|CrimeFiction,Thri...|\n",
      "| 4018288|     The Biggest Fan|Debbie's favorite...|               Drama|\n",
      "| 4596602|      Ashes to Ashes|Ashes to Ashes is...|CrimeFiction,Acti...|\n",
      "|15224586|        Green Dragon|The film follows ...|         Indie,Drama|\n",
      "|15585766|  The Rats of Tobruk|Three friends are...|               Drama|\n",
      "+--------+--------------------+--------------------+--------------------+\n",
      "only showing top 20 rows\n",
      "\n"
     ]
    }
   ],
   "source": [
    "sdf1 = new\n",
    "#sdf1 = new1\n",
    "sdf1.show()"
   ]
  },
  {
   "cell_type": "code",
   "execution_count": 10,
   "metadata": {},
   "outputs": [
    {
     "name": "stdout",
     "output_type": "stream",
     "text": [
      "+---+----------------+\n",
      "|_c0|               0|\n",
      "+---+----------------+\n",
      "|  0|           Drama|\n",
      "|  1|          Comedy|\n",
      "|  2|    Romance Film|\n",
      "|  3|        Thriller|\n",
      "|  4|          Action|\n",
      "|  5|    World cinema|\n",
      "|  6|   Crime Fiction|\n",
      "|  7|          Horror|\n",
      "|  8| Black-and-white|\n",
      "|  9|           Indie|\n",
      "| 10|Action/Adventure|\n",
      "| 11|       Adventure|\n",
      "| 12|     Family Film|\n",
      "| 13|      Short Film|\n",
      "| 14|  Romantic drama|\n",
      "| 15|       Animation|\n",
      "| 16|         Musical|\n",
      "| 17| Science Fiction|\n",
      "| 18|         Mystery|\n",
      "| 19| Romantic comedy|\n",
      "+---+----------------+\n",
      "\n"
     ]
    }
   ],
   "source": [
    "import pyspark.sql.types as types\n",
    "sdf2 = spark_session.read.csv(\"./mapping.csv\", sep = ',', escape='\"', enforceSchema='true', header = 'true')\n",
    "sdf2.show()"
   ]
  },
  {
   "cell_type": "code",
   "execution_count": 11,
   "metadata": {},
   "outputs": [
    {
     "name": "stdout",
     "output_type": "stream",
     "text": [
      "+---+----------------+\n",
      "| id|          genres|\n",
      "+---+----------------+\n",
      "|  0|           Drama|\n",
      "|  1|          Comedy|\n",
      "|  2|    Romance Film|\n",
      "|  3|        Thriller|\n",
      "|  4|          Action|\n",
      "|  5|    World cinema|\n",
      "|  6|   Crime Fiction|\n",
      "|  7|          Horror|\n",
      "|  8| Black-and-white|\n",
      "|  9|           Indie|\n",
      "| 10|Action/Adventure|\n",
      "| 11|       Adventure|\n",
      "| 12|     Family Film|\n",
      "| 13|      Short Film|\n",
      "| 14|  Romantic drama|\n",
      "| 15|       Animation|\n",
      "| 16|         Musical|\n",
      "| 17| Science Fiction|\n",
      "| 18|         Mystery|\n",
      "| 19| Romantic comedy|\n",
      "+---+----------------+\n",
      "\n"
     ]
    }
   ],
   "source": [
    "sdf2 = sdf2.withColumnRenamed('_c0','id')\\\n",
    "    .withColumnRenamed('0', 'genres')\n",
    "sdf2.show()\n"
   ]
  },
  {
   "cell_type": "code",
   "execution_count": 12,
   "metadata": {},
   "outputs": [
    {
     "name": "stdout",
     "output_type": "stream",
     "text": [
      "+---+----------------+\n",
      "| id|          genres|\n",
      "+---+----------------+\n",
      "|  0|           Drama|\n",
      "|  1|          Comedy|\n",
      "|  2|     RomanceFilm|\n",
      "|  3|        Thriller|\n",
      "|  4|          Action|\n",
      "|  5|     Worldcinema|\n",
      "|  6|    CrimeFiction|\n",
      "|  7|          Horror|\n",
      "|  8| Black-and-white|\n",
      "|  9|           Indie|\n",
      "| 10|Action/Adventure|\n",
      "| 11|       Adventure|\n",
      "| 12|      FamilyFilm|\n",
      "| 13|       ShortFilm|\n",
      "| 14|   Romanticdrama|\n",
      "| 15|       Animation|\n",
      "| 16|         Musical|\n",
      "| 17|  ScienceFiction|\n",
      "| 18|         Mystery|\n",
      "| 19|  Romanticcomedy|\n",
      "+---+----------------+\n",
      "\n"
     ]
    }
   ],
   "source": [
    "sdf2 = sdf2.withColumn('genres', regexp_replace('genres',' ',''))\n",
    "sdf2.show()"
   ]
  },
  {
   "cell_type": "code",
   "execution_count": 13,
   "metadata": {},
   "outputs": [
    {
     "name": "stdout",
     "output_type": "stream",
     "text": [
      "Row(genres='Drama')\n"
     ]
    }
   ],
   "source": [
    "vals = sdf2.select('genres').collect()\n",
    "print(vals[0])"
   ]
  },
  {
   "cell_type": "code",
   "execution_count": 14,
   "metadata": {},
   "outputs": [
    {
     "data": {
      "text/plain": [
       "['Drama',\n",
       " 'Comedy',\n",
       " 'RomanceFilm',\n",
       " 'Thriller',\n",
       " 'Action',\n",
       " 'Worldcinema',\n",
       " 'CrimeFiction',\n",
       " 'Horror',\n",
       " 'Black-and-white',\n",
       " 'Indie',\n",
       " 'Action/Adventure',\n",
       " 'Adventure',\n",
       " 'FamilyFilm',\n",
       " 'ShortFilm',\n",
       " 'Romanticdrama',\n",
       " 'Animation',\n",
       " 'Musical',\n",
       " 'ScienceFiction',\n",
       " 'Mystery',\n",
       " 'Romanticcomedy']"
      ]
     },
     "execution_count": 14,
     "metadata": {},
     "output_type": "execute_result"
    }
   ],
   "source": [
    "genre_list = []\n",
    "for i in range(len(vals)):\n",
    "    genre_list.append(vals[i].asDict()['genres'])\n",
    "genre_list"
   ]
  },
  {
   "cell_type": "code",
   "execution_count": 55,
   "metadata": {},
   "outputs": [
    {
     "name": "stdout",
     "output_type": "stream",
     "text": [
      "['Worldcinema', 'Drama']\n"
     ]
    }
   ],
   "source": [
    "train_genre = sdf1.select('genre').collect()\n",
    "v = train_genre[0].asDict()['genre']\n",
    "v = v.split(\",\")\n",
    "print(v)"
   ]
  },
  {
   "cell_type": "code",
   "execution_count": 15,
   "metadata": {},
   "outputs": [],
   "source": [
    "from pyspark.sql.functions import udf\n",
    "from pyspark.sql.types import *\n",
    "import numpy as np\n",
    "\n",
    "def generate_one_hot_encoding(genre):\n",
    "    v = genre.split(\",\")\n",
    "    encoding = np.zeros(len(genre_list))\n",
    "    for i in range(len(v)):\n",
    "        for j in range(len(genre_list)):\n",
    "            if v[i] == genre_list[j]:\n",
    "                encoding[j] = 1 \n",
    "            else:\n",
    "                pass\n",
    "    \n",
    "    \n",
    "    encoding = encoding.tolist()\n",
    "    return encoding"
   ]
  },
  {
   "cell_type": "code",
   "execution_count": 16,
   "metadata": {
    "scrolled": true
   },
   "outputs": [
    {
     "name": "stdout",
     "output_type": "stream",
     "text": [
      "+--------+--------------------+--------------------+--------------------+--------------------+\n",
      "|movie_id|          movie_name|                plot|               genre|            encoding|\n",
      "+--------+--------------------+--------------------+--------------------+--------------------+\n",
      "|23890098|          Taxi Blues|Shlykov a hard-wo...|   Worldcinema,Drama|[1.0, 0.0, 0.0, 0...|\n",
      "|31186339|    The Hunger Games|The nation of Pan...|Action/Adventure,...|[1.0, 0.0, 0.0, 0...|\n",
      "|20663735|          Narasimham|Poovalli Induchoo...|Musical,Action,Drama|[1.0, 0.0, 0.0, 0...|\n",
      "| 2231378|  The Lemon Drop Kid|The Lemon Drop Ki...|              Comedy|[0.0, 1.0, 0.0, 0...|\n",
      "|  595909|   A Cry in the Dark|Seventh-day Adven...|CrimeFiction,Worl...|[1.0, 0.0, 0.0, 0...|\n",
      "| 5272176|            End Game|The president is ...|Action/Adventure,...|[1.0, 0.0, 0.0, 1...|\n",
      "| 1952976|          Dark Water| The film opens i...|Thriller,Drama,Ho...|[1.0, 0.0, 0.0, 1...|\n",
      "|24225279|                Sing|The story begins ...|               Drama|[1.0, 0.0, 0.0, 0...|\n",
      "| 2462689|       Meet John Doe|Infuriated at bei...|Black-and-white,C...|[1.0, 1.0, 1.0, 0...|\n",
      "|20532852|Destination Meatball|A line of people ...|Animation,ShortFi...|[0.0, 0.0, 0.0, 0...|\n",
      "|15401493|    Husband for Hire|Lola  attempts to...|              Comedy|[0.0, 1.0, 0.0, 0...|\n",
      "|18188932|         Up and Down|Milan and Goran a...|CrimeFiction,Come...|[1.0, 1.0, 0.0, 0...|\n",
      "| 2940516|Ghost In The Noon...|Bumbling pirate c...|              Comedy|[0.0, 1.0, 0.0, 0...|\n",
      "| 1480747|       House Party 2| Following the su...|              Comedy|[0.0, 1.0, 0.0, 0...|\n",
      "|24448645|Forest of the Dam...|Despite Lucy's re...|              Horror|[0.0, 0.0, 0.0, 0...|\n",
      "|15072401|Charlie Chan's Se...|Alan Colby heir t...|CrimeFiction,Thri...|[0.0, 0.0, 0.0, 1...|\n",
      "| 4018288|     The Biggest Fan|Debbie's favorite...|               Drama|[1.0, 0.0, 0.0, 0...|\n",
      "| 4596602|      Ashes to Ashes|Ashes to Ashes is...|CrimeFiction,Acti...|[0.0, 0.0, 1.0, 1...|\n",
      "|15224586|        Green Dragon|The film follows ...|         Indie,Drama|[1.0, 0.0, 0.0, 0...|\n",
      "|15585766|  The Rats of Tobruk|Three friends are...|               Drama|[1.0, 0.0, 0.0, 0...|\n",
      "+--------+--------------------+--------------------+--------------------+--------------------+\n",
      "only showing top 20 rows\n",
      "\n"
     ]
    }
   ],
   "source": [
    "import pyspark.sql.types as types\n",
    "udffunc = udf(generate_one_hot_encoding, types.ArrayType(FloatType()))\n",
    "new_sdf = sdf1.withColumn('encoding', udffunc('genre')) \n",
    "new_sdf.show()"
   ]
  },
  {
   "cell_type": "code",
   "execution_count": 17,
   "metadata": {},
   "outputs": [],
   "source": [
    "from pyspark.ml.feature import Tokenizer, StopWordsRemover"
   ]
  },
  {
   "cell_type": "code",
   "execution_count": 18,
   "metadata": {},
   "outputs": [],
   "source": [
    "tokenizer = Tokenizer(inputCol='plot', outputCol='plottokens')\n",
    "new_sdf = tokenizer.transform(new_sdf)\n",
    "remover = StopWordsRemover(inputCol = 'plottokens', outputCol = 'plottokensclean')\n",
    "new_sdf = remover.transform(new_sdf)"
   ]
  },
  {
   "cell_type": "code",
   "execution_count": 19,
   "metadata": {},
   "outputs": [],
   "source": [
    "new_sdf = new_sdf.drop('plottokens')"
   ]
  },
  {
   "cell_type": "code",
   "execution_count": 20,
   "metadata": {},
   "outputs": [
    {
     "data": {
      "text/plain": [
       "StructType(List(StructField(movie_id,LongType,true),StructField(movie_name,StringType,true),StructField(plot,StringType,true),StructField(genre,StringType,true),StructField(encoding,ArrayType(FloatType,true),true),StructField(plottokensclean,ArrayType(StringType,true),true)))"
      ]
     },
     "execution_count": 20,
     "metadata": {},
     "output_type": "execute_result"
    }
   ],
   "source": [
    "new_sdf.schema"
   ]
  },
  {
   "cell_type": "code",
   "execution_count": 21,
   "metadata": {},
   "outputs": [
    {
     "name": "stdout",
     "output_type": "stream",
     "text": [
      "+--------+--------------------+--------------------+--------------------+--------------------+--------------------+\n",
      "|movie_id|          movie_name|                plot|               genre|            encoding|     plottokensclean|\n",
      "+--------+--------------------+--------------------+--------------------+--------------------+--------------------+\n",
      "|23890098|          Taxi Blues|Shlykov a hard-wo...|   Worldcinema,Drama|[1.0, 0.0, 0.0, 0...|[shlykov, hard-wo...|\n",
      "|31186339|    The Hunger Games|The nation of Pan...|Action/Adventure,...|[1.0, 0.0, 0.0, 0...|[nation, panem, c...|\n",
      "|20663735|          Narasimham|Poovalli Induchoo...|Musical,Action,Drama|[1.0, 0.0, 0.0, 0...|[poovalli, induch...|\n",
      "| 2231378|  The Lemon Drop Kid|The Lemon Drop Ki...|              Comedy|[0.0, 1.0, 0.0, 0...|[lemon, drop, kid...|\n",
      "|  595909|   A Cry in the Dark|Seventh-day Adven...|CrimeFiction,Worl...|[1.0, 0.0, 0.0, 0...|[seventh-day, adv...|\n",
      "| 5272176|            End Game|The president is ...|Action/Adventure,...|[1.0, 0.0, 0.0, 1...|[president, way, ...|\n",
      "| 1952976|          Dark Water| The film opens i...|Thriller,Drama,Ho...|[1.0, 0.0, 0.0, 1...|[, film, opens, 1...|\n",
      "|24225279|                Sing|The story begins ...|               Drama|[1.0, 0.0, 0.0, 0...|[story, begins, h...|\n",
      "| 2462689|       Meet John Doe|Infuriated at bei...|Black-and-white,C...|[1.0, 1.0, 1.0, 0...|[infuriated, told...|\n",
      "|20532852|Destination Meatball|A line of people ...|Animation,ShortFi...|[0.0, 0.0, 0.0, 0...|[line, people, , ...|\n",
      "|15401493|    Husband for Hire|Lola  attempts to...|              Comedy|[0.0, 1.0, 0.0, 0...|[lola, , attempts...|\n",
      "|18188932|         Up and Down|Milan and Goran a...|CrimeFiction,Come...|[1.0, 1.0, 0.0, 0...|[milan, goran, tw...|\n",
      "| 2940516|Ghost In The Noon...|Bumbling pirate c...|              Comedy|[0.0, 1.0, 0.0, 0...|[bumbling, pirate...|\n",
      "| 1480747|       House Party 2| Following the su...|              Comedy|[0.0, 1.0, 0.0, 0...|[, following, sud...|\n",
      "|24448645|Forest of the Dam...|Despite Lucy's re...|              Horror|[0.0, 0.0, 0.0, 0...|[despite, lucy's,...|\n",
      "|15072401|Charlie Chan's Se...|Alan Colby heir t...|CrimeFiction,Thri...|[0.0, 0.0, 0.0, 1...|[alan, colby, hei...|\n",
      "| 4018288|     The Biggest Fan|Debbie's favorite...|               Drama|[1.0, 0.0, 0.0, 0...|[debbie's, favori...|\n",
      "| 4596602|      Ashes to Ashes|Ashes to Ashes is...|CrimeFiction,Acti...|[0.0, 0.0, 1.0, 1...|[ashes, ashes, se...|\n",
      "|15224586|        Green Dragon|The film follows ...|         Indie,Drama|[1.0, 0.0, 0.0, 0...|[film, follows, e...|\n",
      "|15585766|  The Rats of Tobruk|Three friends are...|               Drama|[1.0, 0.0, 0.0, 0...|[three, friends, ...|\n",
      "+--------+--------------------+--------------------+--------------------+--------------------+--------------------+\n",
      "only showing top 20 rows\n",
      "\n"
     ]
    }
   ],
   "source": [
    "new_sdf.show()"
   ]
  },
  {
   "cell_type": "code",
   "execution_count": 22,
   "metadata": {},
   "outputs": [
    {
     "name": "stdout",
     "output_type": "stream",
     "text": [
      "+--------+--------------------+--------------------+\n",
      "|movie_id|          movie_name|                plot|\n",
      "+--------+--------------------+--------------------+\n",
      "| 1335380|              Exodus|The film is based...|\n",
      "|29062594|A la salida nos v...|A group of teenag...|\n",
      "| 9252321|   Come Back, Africa|This story of a Z...|\n",
      "|13455076|       A Merry Mixup|The Stooges play ...|\n",
      "|24165951|        Getting Even|A soldier-of-fort...|\n",
      "| 1925869|  River of No Return|Set in the Northw...|\n",
      "|10799612|          Amici miei|Like in many othe...|\n",
      "|28238240|Mickey's Big Game...|Mickey and the Sc...|\n",
      "|17124781|The Good, the Bad...|In the desert wil...|\n",
      "|28207941|    The Dancing Fool|Bimbo and Koko ar...|\n",
      "|19174305|              Tahaan|Tahaan  lives wit...|\n",
      "|18392317|     Mysterious Mose|Betty is startled...|\n",
      "|34420857|Kelviyum Naane Pa...|Nirmal ([[Karthik...|\n",
      "| 4039635|   First on the Moon|A group of journa...|\n",
      "| 8034072|  Journey of a Woman|Vaibhavari Sahay,...|\n",
      "| 4016437|     Sophie's Choice|In 1947, the movi...|\n",
      "| 1520023|  Ninja Resurrection|Ninja Resurrectio...|\n",
      "|24589422|      Maria’s Lovers|In the spring of ...|\n",
      "|35068740|           Chinnavar|Muthu ([[Prabhu  ...|\n",
      "|21132951|              Aparan|Vishwanathan , an...|\n",
      "+--------+--------------------+--------------------+\n",
      "only showing top 20 rows\n",
      "\n"
     ]
    }
   ],
   "source": [
    "sdf3 = spark_session.read.csv(\"./test.csv\", sep = ',', escape='\"', enforceSchema='true', header = 'true')\n",
    "sdf3.show()"
   ]
  },
  {
   "cell_type": "code",
   "execution_count": 23,
   "metadata": {},
   "outputs": [
    {
     "name": "stdout",
     "output_type": "stream",
     "text": [
      "+--------+--------------------+--------------------+\n",
      "|movie_id|          movie_name|                plot|\n",
      "+--------+--------------------+--------------------+\n",
      "| 1335380|              Exodus|The film is based...|\n",
      "|29062594|A la salida nos v...|A group of teenag...|\n",
      "| 9252321|   Come Back, Africa|This story of a Z...|\n",
      "|13455076|       A Merry Mixup|The Stooges play ...|\n",
      "|24165951|        Getting Even|A soldier-of-fort...|\n",
      "| 1925869|  River of No Return|Set in the Northw...|\n",
      "|10799612|          Amici miei|Like in many othe...|\n",
      "|28238240|Mickey's Big Game...|Mickey and the Sc...|\n",
      "|17124781|The Good, the Bad...|In the desert wil...|\n",
      "|28207941|    The Dancing Fool|Bimbo and Koko ar...|\n",
      "|19174305|              Tahaan|Tahaan  lives wit...|\n",
      "|18392317|     Mysterious Mose|Betty is startled...|\n",
      "|34420857|Kelviyum Naane Pa...|Nirmal Karthik  t...|\n",
      "| 4039635|   First on the Moon|A group of journa...|\n",
      "| 8034072|  Journey of a Woman|Vaibhavari Sahay,...|\n",
      "| 4016437|     Sophie's Choice|In 1947, the movi...|\n",
      "| 1520023|  Ninja Resurrection|Ninja Resurrectio...|\n",
      "|24589422|      Maria’s Lovers|In the spring of ...|\n",
      "|35068740|           Chinnavar|Muthu Prabhu  and...|\n",
      "|21132951|              Aparan|Vishwanathan , an...|\n",
      "+--------+--------------------+--------------------+\n",
      "only showing top 20 rows\n",
      "\n"
     ]
    }
   ],
   "source": [
    "new3 = sdf3.withColumn('plot', regexp_replace('plot', '[{.*}]', ''))\\\n",
    "            .withColumn('plot', regexp_replace('plot', 'plot', '')) \\\n",
    "            .withColumn('plot', regexp_replace('plot', '[\\(\\)]',''))\\\n",
    "            .withColumn('plot', regexp_replace('plot', '[\\[\\]]',''))\n",
    "sdf3 = new3\n",
    "sdf3.show()"
   ]
  },
  {
   "cell_type": "code",
   "execution_count": 24,
   "metadata": {},
   "outputs": [
    {
     "name": "stdout",
     "output_type": "stream",
     "text": [
      "+--------+--------------------+--------------------+--------------------+--------------------+\n",
      "|movie_id|          movie_name|                plot|          plottokens|     plottokensclean|\n",
      "+--------+--------------------+--------------------+--------------------+--------------------+\n",
      "| 1335380|              Exodus|The film is based...|[the, film, is, b...|[film, based, eve...|\n",
      "|29062594|A la salida nos v...|A group of teenag...|[a, group, of, te...|[group, teenagers...|\n",
      "| 9252321|   Come Back, Africa|This story of a Z...|[this, story, of,...|[story, zulu, fam...|\n",
      "|13455076|       A Merry Mixup|The Stooges play ...|[the, stooges, pl...|[stooges, play, t...|\n",
      "|24165951|        Getting Even|A soldier-of-fort...|[a, soldier-of-fo...|[soldier-of-fortu...|\n",
      "| 1925869|  River of No Return|Set in the Northw...|[set, in, the, no...|[set, northwester...|\n",
      "|10799612|          Amici miei|Like in many othe...|[like, in, many, ...|[like, many, moni...|\n",
      "|28238240|Mickey's Big Game...|Mickey and the Sc...|[mickey, and, the...|[mickey, scorpion...|\n",
      "|17124781|The Good, the Bad...|In the desert wil...|[in, the, desert,...|[desert, wilderne...|\n",
      "|28207941|    The Dancing Fool|Bimbo and Koko ar...|[bimbo, and, koko...|[bimbo, koko, sig...|\n",
      "|19174305|              Tahaan|Tahaan  lives wit...|[tahaan, , lives,...|[tahaan, , lives,...|\n",
      "|18392317|     Mysterious Mose|Betty is startled...|[betty, is, start...|[betty, startled,...|\n",
      "|34420857|Kelviyum Naane Pa...|Nirmal Karthik  t...|[nirmal, karthik,...|[nirmal, karthik,...|\n",
      "| 4039635|   First on the Moon|A group of journa...|[a, group, of, jo...|[group, journalis...|\n",
      "| 8034072|  Journey of a Woman|Vaibhavari Sahay,...|[vaibhavari, saha...|[vaibhavari, saha...|\n",
      "| 4016437|     Sophie's Choice|In 1947, the movi...|[in, 1947,, the, ...|[1947,, movie's, ...|\n",
      "| 1520023|  Ninja Resurrection|Ninja Resurrectio...|[ninja, resurrect...|[ninja, resurrect...|\n",
      "|24589422|      Maria’s Lovers|In the spring of ...|[in, the, spring,...|[spring, 1946,, i...|\n",
      "|35068740|           Chinnavar|Muthu Prabhu  and...|[muthu, prabhu, ,...|[muthu, prabhu, ,...|\n",
      "|21132951|              Aparan|Vishwanathan , an...|[vishwanathan, ,,...|[vishwanathan, ,,...|\n",
      "+--------+--------------------+--------------------+--------------------+--------------------+\n",
      "only showing top 20 rows\n",
      "\n"
     ]
    }
   ],
   "source": [
    "sdf3 = tokenizer.transform(sdf3)\n",
    "sdf3 = remover.transform(sdf3)\n",
    "sdf3.show()"
   ]
  },
  {
   "cell_type": "code",
   "execution_count": 25,
   "metadata": {},
   "outputs": [
    {
     "name": "stdout",
     "output_type": "stream",
     "text": [
      "+--------+--------------------+--------------------+--------------------+\n",
      "|movie_id|          movie_name|                plot|     plottokensclean|\n",
      "+--------+--------------------+--------------------+--------------------+\n",
      "| 1335380|              Exodus|The film is based...|[film, based, eve...|\n",
      "|29062594|A la salida nos v...|A group of teenag...|[group, teenagers...|\n",
      "| 9252321|   Come Back, Africa|This story of a Z...|[story, zulu, fam...|\n",
      "|13455076|       A Merry Mixup|The Stooges play ...|[stooges, play, t...|\n",
      "|24165951|        Getting Even|A soldier-of-fort...|[soldier-of-fortu...|\n",
      "| 1925869|  River of No Return|Set in the Northw...|[set, northwester...|\n",
      "|10799612|          Amici miei|Like in many othe...|[like, many, moni...|\n",
      "|28238240|Mickey's Big Game...|Mickey and the Sc...|[mickey, scorpion...|\n",
      "|17124781|The Good, the Bad...|In the desert wil...|[desert, wilderne...|\n",
      "|28207941|    The Dancing Fool|Bimbo and Koko ar...|[bimbo, koko, sig...|\n",
      "|19174305|              Tahaan|Tahaan  lives wit...|[tahaan, , lives,...|\n",
      "|18392317|     Mysterious Mose|Betty is startled...|[betty, startled,...|\n",
      "|34420857|Kelviyum Naane Pa...|Nirmal Karthik  t...|[nirmal, karthik,...|\n",
      "| 4039635|   First on the Moon|A group of journa...|[group, journalis...|\n",
      "| 8034072|  Journey of a Woman|Vaibhavari Sahay,...|[vaibhavari, saha...|\n",
      "| 4016437|     Sophie's Choice|In 1947, the movi...|[1947,, movie's, ...|\n",
      "| 1520023|  Ninja Resurrection|Ninja Resurrectio...|[ninja, resurrect...|\n",
      "|24589422|      Maria’s Lovers|In the spring of ...|[spring, 1946,, i...|\n",
      "|35068740|           Chinnavar|Muthu Prabhu  and...|[muthu, prabhu, ,...|\n",
      "|21132951|              Aparan|Vishwanathan , an...|[vishwanathan, ,,...|\n",
      "+--------+--------------------+--------------------+--------------------+\n",
      "only showing top 20 rows\n",
      "\n"
     ]
    }
   ],
   "source": [
    "sdf3 = sdf3.drop('plottokens')\n",
    "sdf3.show()"
   ]
  },
  {
   "cell_type": "code",
   "execution_count": 28,
   "metadata": {},
   "outputs": [],
   "source": [
    "for i in range(len(genre_list)):\n",
    "    new_sdf = new_sdf.withColumn(\"col{}\".format(i),new_sdf['encoding'].getItem(i))\n"
   ]
  },
  {
   "cell_type": "code",
   "execution_count": 1,
   "metadata": {},
   "outputs": [],
   "source": [
    "# df['col_name'] creates a Column Object , toaccess the elements we need to use getItem()"
   ]
  },
  {
   "cell_type": "code",
   "execution_count": 26,
   "metadata": {},
   "outputs": [],
   "source": [
    "from pyspark.ml.feature import Word2Vec\n",
    "from pyspark.ml import Pipeline"
   ]
  },
  {
   "cell_type": "code",
   "execution_count": 27,
   "metadata": {},
   "outputs": [],
   "source": [
    "def make_and_fit(sdf, inputcol):\n",
    "    w2v_model = Word2Vec(vectorSize=300, minCount=0, inputCol=inputcol, outputCol='plotvectors')\n",
    "    doc2vec_pipeline = Pipeline(stages =[w2v_model] )\n",
    "    doc2vec_model = doc2vec_pipeline.fit(sdf)\n",
    "    return doc2vec_model\n"
   ]
  },
  {
   "cell_type": "code",
   "execution_count": 30,
   "metadata": {},
   "outputs": [],
   "source": [
    "doc2vec_model = make_and_fit(new_sdf, inputcol=\"plottokensclean\")\n",
    "new_sdf = doc2vec_model.transform(new_sdf)"
   ]
  },
  {
   "cell_type": "code",
   "execution_count": 31,
   "metadata": {},
   "outputs": [
    {
     "name": "stdout",
     "output_type": "stream",
     "text": [
      "+--------+--------------------+--------------------+--------------------+--------------------+--------------------+----+----+----+----+----+----+----+----+----+----+-----+-----+-----+-----+-----+-----+-----+-----+-----+-----+--------------------+\n",
      "|movie_id|          movie_name|                plot|               genre|            encoding|     plottokensclean|col0|col1|col2|col3|col4|col5|col6|col7|col8|col9|col10|col11|col12|col13|col14|col15|col16|col17|col18|col19|         plotvectors|\n",
      "+--------+--------------------+--------------------+--------------------+--------------------+--------------------+----+----+----+----+----+----+----+----+----+----+-----+-----+-----+-----+-----+-----+-----+-----+-----+-----+--------------------+\n",
      "|23890098|          Taxi Blues|Shlykov a hard-wo...|   Worldcinema,Drama|[1.0, 0.0, 0.0, 0...|[shlykov, hard-wo...| 1.0| 0.0| 0.0| 0.0| 0.0| 1.0| 0.0| 0.0| 0.0| 0.0|  0.0|  0.0|  0.0|  0.0|  0.0|  0.0|  0.0|  0.0|  0.0|  0.0|[0.05814210692707...|\n",
      "|31186339|    The Hunger Games|The nation of Pan...|Action/Adventure,...|[1.0, 0.0, 0.0, 0...|[nation, panem, c...| 1.0| 0.0| 0.0| 0.0| 1.0| 0.0| 0.0| 0.0| 0.0| 0.0|  1.0|  0.0|  0.0|  0.0|  0.0|  0.0|  0.0|  1.0|  0.0|  0.0|[0.01938970545181...|\n",
      "|20663735|          Narasimham|Poovalli Induchoo...|Musical,Action,Drama|[1.0, 0.0, 0.0, 0...|[poovalli, induch...| 1.0| 0.0| 0.0| 0.0| 1.0| 0.0| 0.0| 0.0| 0.0| 0.0|  0.0|  0.0|  0.0|  0.0|  0.0|  0.0|  1.0|  0.0|  0.0|  0.0|[0.03756075716420...|\n",
      "| 2231378|  The Lemon Drop Kid|The Lemon Drop Ki...|              Comedy|[0.0, 1.0, 0.0, 0...|[lemon, drop, kid...| 0.0| 1.0| 0.0| 0.0| 0.0| 0.0| 0.0| 0.0| 0.0| 0.0|  0.0|  0.0|  0.0|  0.0|  0.0|  0.0|  0.0|  0.0|  0.0|  0.0|[0.04531899127673...|\n",
      "|  595909|   A Cry in the Dark|Seventh-day Adven...|CrimeFiction,Worl...|[1.0, 0.0, 0.0, 0...|[seventh-day, adv...| 1.0| 0.0| 0.0| 0.0| 0.0| 1.0| 1.0| 0.0| 0.0| 0.0|  0.0|  0.0|  0.0|  0.0|  0.0|  0.0|  0.0|  0.0|  0.0|  0.0|[0.03791845023413...|\n",
      "| 5272176|            End Game|The president is ...|Action/Adventure,...|[1.0, 0.0, 0.0, 1...|[president, way, ...| 1.0| 0.0| 0.0| 1.0| 1.0| 0.0| 0.0| 0.0| 0.0| 0.0|  1.0|  0.0|  0.0|  0.0|  0.0|  0.0|  0.0|  0.0|  0.0|  0.0|[0.06333175511400...|\n",
      "| 1952976|          Dark Water| The film opens i...|Thriller,Drama,Ho...|[1.0, 0.0, 0.0, 1...|[, film, opens, 1...| 1.0| 0.0| 0.0| 1.0| 0.0| 0.0| 0.0| 1.0| 0.0| 0.0|  0.0|  0.0|  0.0|  0.0|  0.0|  0.0|  0.0|  0.0|  0.0|  0.0|[0.01812611867827...|\n",
      "|24225279|                Sing|The story begins ...|               Drama|[1.0, 0.0, 0.0, 0...|[story, begins, h...| 1.0| 0.0| 0.0| 0.0| 0.0| 0.0| 0.0| 0.0| 0.0| 0.0|  0.0|  0.0|  0.0|  0.0|  0.0|  0.0|  0.0|  0.0|  0.0|  0.0|[0.05084836610452...|\n",
      "| 2462689|       Meet John Doe|Infuriated at bei...|Black-and-white,C...|[1.0, 1.0, 1.0, 0...|[infuriated, told...| 1.0| 1.0| 1.0| 0.0| 0.0| 0.0| 0.0| 0.0| 1.0| 0.0|  0.0|  0.0|  0.0|  0.0|  0.0|  0.0|  0.0|  0.0|  0.0|  1.0|[0.05257147025217...|\n",
      "|20532852|Destination Meatball|A line of people ...|Animation,ShortFi...|[0.0, 0.0, 0.0, 0...|[line, people, , ...| 0.0| 0.0| 0.0| 0.0| 0.0| 0.0| 0.0| 0.0| 0.0| 0.0|  0.0|  0.0|  1.0|  1.0|  0.0|  1.0|  0.0|  0.0|  0.0|  0.0|[-6.8188969858876...|\n",
      "|15401493|    Husband for Hire|Lola  attempts to...|              Comedy|[0.0, 1.0, 0.0, 0...|[lola, , attempts...| 0.0| 1.0| 0.0| 0.0| 0.0| 0.0| 0.0| 0.0| 0.0| 0.0|  0.0|  0.0|  0.0|  0.0|  0.0|  0.0|  0.0|  0.0|  0.0|  0.0|[0.04593800386787...|\n",
      "|18188932|         Up and Down|Milan and Goran a...|CrimeFiction,Come...|[1.0, 1.0, 0.0, 0...|[milan, goran, tw...| 1.0| 1.0| 0.0| 0.0| 0.0| 1.0| 1.0| 0.0| 0.0| 0.0|  0.0|  0.0|  0.0|  0.0|  0.0|  0.0|  0.0|  0.0|  0.0|  0.0|[0.00645527817541...|\n",
      "| 2940516|Ghost In The Noon...|Bumbling pirate c...|              Comedy|[0.0, 1.0, 0.0, 0...|[bumbling, pirate...| 0.0| 1.0| 0.0| 0.0| 0.0| 0.0| 0.0| 0.0| 0.0| 0.0|  0.0|  0.0|  0.0|  0.0|  0.0|  0.0|  0.0|  0.0|  0.0|  0.0|[0.02673609981845...|\n",
      "| 1480747|       House Party 2| Following the su...|              Comedy|[0.0, 1.0, 0.0, 0...|[, following, sud...| 0.0| 1.0| 0.0| 0.0| 0.0| 0.0| 0.0| 0.0| 0.0| 0.0|  0.0|  0.0|  0.0|  0.0|  0.0|  0.0|  0.0|  0.0|  0.0|  0.0|[0.04194964313309...|\n",
      "|24448645|Forest of the Dam...|Despite Lucy's re...|              Horror|[0.0, 0.0, 0.0, 0...|[despite, lucy's,...| 0.0| 0.0| 0.0| 0.0| 0.0| 0.0| 0.0| 1.0| 0.0| 0.0|  0.0|  0.0|  0.0|  0.0|  0.0|  0.0|  0.0|  0.0|  0.0|  0.0|[0.04033890319988...|\n",
      "|15072401|Charlie Chan's Se...|Alan Colby heir t...|CrimeFiction,Thri...|[0.0, 0.0, 0.0, 1...|[alan, colby, hei...| 0.0| 0.0| 0.0| 1.0| 0.0| 0.0| 1.0| 1.0| 0.0| 0.0|  0.0|  0.0|  0.0|  0.0|  0.0|  0.0|  0.0|  0.0|  1.0|  0.0|[0.04360914454164...|\n",
      "| 4018288|     The Biggest Fan|Debbie's favorite...|               Drama|[1.0, 0.0, 0.0, 0...|[debbie's, favori...| 1.0| 0.0| 0.0| 0.0| 0.0| 0.0| 0.0| 0.0| 0.0| 0.0|  0.0|  0.0|  0.0|  0.0|  0.0|  0.0|  0.0|  0.0|  0.0|  0.0|[0.04462495582717...|\n",
      "| 4596602|      Ashes to Ashes|Ashes to Ashes is...|CrimeFiction,Acti...|[0.0, 0.0, 1.0, 1...|[ashes, ashes, se...| 0.0| 0.0| 1.0| 1.0| 1.0| 0.0| 1.0| 0.0| 0.0| 1.0|  0.0|  0.0|  0.0|  0.0|  0.0|  0.0|  0.0|  0.0|  0.0|  0.0|[0.04292217304012...|\n",
      "|15224586|        Green Dragon|The film follows ...|         Indie,Drama|[1.0, 0.0, 0.0, 0...|[film, follows, e...| 1.0| 0.0| 0.0| 0.0| 0.0| 0.0| 0.0| 0.0| 0.0| 1.0|  0.0|  0.0|  0.0|  0.0|  0.0|  0.0|  0.0|  0.0|  0.0|  0.0|[0.04307761831391...|\n",
      "|15585766|  The Rats of Tobruk|Three friends are...|               Drama|[1.0, 0.0, 0.0, 0...|[three, friends, ...| 1.0| 0.0| 0.0| 0.0| 0.0| 0.0| 0.0| 0.0| 0.0| 0.0|  0.0|  0.0|  0.0|  0.0|  0.0|  0.0|  0.0|  0.0|  0.0|  0.0|[0.01753268339095...|\n",
      "+--------+--------------------+--------------------+--------------------+--------------------+--------------------+----+----+----+----+----+----+----+----+----+----+-----+-----+-----+-----+-----+-----+-----+-----+-----+-----+--------------------+\n",
      "only showing top 20 rows\n",
      "\n"
     ]
    }
   ],
   "source": [
    "new_sdf.show()"
   ]
  },
  {
   "cell_type": "code",
   "execution_count": 32,
   "metadata": {},
   "outputs": [],
   "source": [
    "d2v_model = make_and_fit(sdf3, inputcol = \"plottokensclean\")"
   ]
  },
  {
   "cell_type": "code",
   "execution_count": 33,
   "metadata": {},
   "outputs": [],
   "source": [
    "sdf3 = d2v_model.transform(sdf3)"
   ]
  },
  {
   "cell_type": "code",
   "execution_count": 34,
   "metadata": {},
   "outputs": [
    {
     "name": "stdout",
     "output_type": "stream",
     "text": [
      "+--------+--------------------+--------------------+--------------------+--------------------+\n",
      "|movie_id|          movie_name|                plot|     plottokensclean|         plotvectors|\n",
      "+--------+--------------------+--------------------+--------------------+--------------------+\n",
      "| 1335380|              Exodus|The film is based...|[film, based, eve...|[0.01070872802175...|\n",
      "|29062594|A la salida nos v...|A group of teenag...|[group, teenagers...|[0.00521442606651...|\n",
      "| 9252321|   Come Back, Africa|This story of a Z...|[story, zulu, fam...|[0.01173783440051...|\n",
      "|13455076|       A Merry Mixup|The Stooges play ...|[stooges, play, t...|[0.01266001568688...|\n",
      "|24165951|        Getting Even|A soldier-of-fort...|[soldier-of-fortu...|[0.02019967997912...|\n",
      "| 1925869|  River of No Return|Set in the Northw...|[set, northwester...|[0.01340642463277...|\n",
      "|10799612|          Amici miei|Like in many othe...|[like, many, moni...|[0.01339420602512...|\n",
      "|28238240|Mickey's Big Game...|Mickey and the Sc...|[mickey, scorpion...|[0.02902476502848...|\n",
      "|17124781|The Good, the Bad...|In the desert wil...|[desert, wilderne...|[-0.0015218758691...|\n",
      "|28207941|    The Dancing Fool|Bimbo and Koko ar...|[bimbo, koko, sig...|[0.00785623383957...|\n",
      "|19174305|              Tahaan|Tahaan  lives wit...|[tahaan, , lives,...|[0.02244197213152...|\n",
      "|18392317|     Mysterious Mose|Betty is startled...|[betty, startled,...|[0.00540575994172...|\n",
      "|34420857|Kelviyum Naane Pa...|Nirmal Karthik  t...|[nirmal, karthik,...|[0.02978026566915...|\n",
      "| 4039635|   First on the Moon|A group of journa...|[group, journalis...|[0.00710655128784...|\n",
      "| 8034072|  Journey of a Woman|Vaibhavari Sahay,...|[vaibhavari, saha...|[0.01862644362277...|\n",
      "| 4016437|     Sophie's Choice|In 1947, the movi...|[1947,, movie's, ...|[0.01505990647029...|\n",
      "| 1520023|  Ninja Resurrection|Ninja Resurrectio...|[ninja, resurrect...|[0.00413204670380...|\n",
      "|24589422|      Maria’s Lovers|In the spring of ...|[spring, 1946,, i...|[0.02535791439967...|\n",
      "|35068740|           Chinnavar|Muthu Prabhu  and...|[muthu, prabhu, ,...|[0.03041113200074...|\n",
      "|21132951|              Aparan|Vishwanathan , an...|[vishwanathan, ,,...|[0.02050447878296...|\n",
      "+--------+--------------------+--------------------+--------------------+--------------------+\n",
      "only showing top 20 rows\n",
      "\n"
     ]
    }
   ],
   "source": [
    "sdf3.show()"
   ]
  },
  {
   "cell_type": "code",
   "execution_count": 35,
   "metadata": {},
   "outputs": [],
   "source": [
    "from pyspark.ml.classification import RandomForestClassifier"
   ]
  },
  {
   "cell_type": "code",
   "execution_count": 36,
   "metadata": {},
   "outputs": [],
   "source": [
    "def fit_and_classify(sdf, labelcol, featurescol):\n",
    "    rf_classifier = RandomForestClassifier(labelCol = labelcol, featuresCol= featurescol,numTrees=3,maxDepth=2)\n",
    "    rf_classifier_pipeline = Pipeline(stages=[rf_classifier])\n",
    "    rf_model = rf_classifier_pipeline.fit(sdf)\n",
    "    return rf_model"
   ]
  },
  {
   "cell_type": "code",
   "execution_count": 72,
   "metadata": {},
   "outputs": [],
   "source": [
    "# Code fragment for testing undersampling\n",
    "l = []\n",
    "for i in range(20):\n",
    "    filter_df = new_sdf.select('movie_id','movie_name', 'plot','genre','plotvectors','col{}'.format(i))\n",
    "#Dividing the filtered_df to check for the ratio\n",
    "    df1 = filter_df.filter(filter_df['col{}'.format(i)] == 1.0)\n",
    "    df2 = filter_df.filter(filter_df['col{}'.format(i)] == 0.0)\n",
    "    if df2.count() > df1.count():\n",
    "        ratio = df2.count() / df1.count()\n",
    "        sampled_df = df2.sample(False, 1/ratio)\n",
    "        final_df = sampled_df.union(df1)\n",
    "    else:\n",
    "        ratio = df1.count() / df2.count()\n",
    "        sampled_df = df1.sample(False, 1/ratio)\n",
    "        final_df = sampled_df.union(df2)\n",
    "    rf_model = fit_and_classify(final_df, labelcol='col{}'.format(i), featurescol='plotvectors')\n",
    "    predictions = rf_model.transform(sdf3)\n",
    "    l.append(predictions.select('movie_id', 'prediction'))       "
   ]
  },
  {
   "cell_type": "code",
   "execution_count": 73,
   "metadata": {},
   "outputs": [
    {
     "data": {
      "text/plain": [
       "20"
      ]
     },
     "execution_count": 73,
     "metadata": {},
     "output_type": "execute_result"
    }
   ],
   "source": [
    "len(l)"
   ]
  },
  {
   "cell_type": "code",
   "execution_count": 74,
   "metadata": {},
   "outputs": [],
   "source": [
    "for i in range(len(l)):\n",
    "    l[i] = l[i].withColumnRenamed('prediction', 'prediction{}'.format(i))"
   ]
  },
  {
   "cell_type": "code",
   "execution_count": 76,
   "metadata": {},
   "outputs": [
    {
     "name": "stdout",
     "output_type": "stream",
     "text": [
      "+--------+------------+\n",
      "|movie_id|prediction18|\n",
      "+--------+------------+\n",
      "| 1335380|         0.0|\n",
      "|29062594|         0.0|\n",
      "| 9252321|         0.0|\n",
      "|13455076|         1.0|\n",
      "|24165951|         1.0|\n",
      "| 1925869|         1.0|\n",
      "|10799612|         1.0|\n",
      "|28238240|         0.0|\n",
      "|17124781|         1.0|\n",
      "|28207941|         1.0|\n",
      "|19174305|         1.0|\n",
      "|18392317|         1.0|\n",
      "|34420857|         1.0|\n",
      "| 4039635|         1.0|\n",
      "| 8034072|         0.0|\n",
      "| 4016437|         0.0|\n",
      "| 1520023|         1.0|\n",
      "|24589422|         0.0|\n",
      "|35068740|         1.0|\n",
      "|21132951|         0.0|\n",
      "+--------+------------+\n",
      "only showing top 20 rows\n",
      "\n"
     ]
    }
   ],
   "source": [
    "l[18].show()"
   ]
  },
  {
   "cell_type": "code",
   "execution_count": 77,
   "metadata": {},
   "outputs": [],
   "source": [
    "joined_df = l[0]\n",
    "for i in range(1,len(l)):\n",
    "    joined_df = joined_df.join(l[i], on =['movie_id'], how = 'inner' )"
   ]
  },
  {
   "cell_type": "code",
   "execution_count": 78,
   "metadata": {},
   "outputs": [],
   "source": [
    "from pyspark.ml.feature import VectorAssembler"
   ]
  },
  {
   "cell_type": "code",
   "execution_count": 79,
   "metadata": {},
   "outputs": [],
   "source": [
    "cols = []\n",
    "for i in range(len(l)):\n",
    "    cols.append('prediction{}'.format(i))"
   ]
  },
  {
   "cell_type": "code",
   "execution_count": 80,
   "metadata": {},
   "outputs": [],
   "source": [
    "vecAssembler = VectorAssembler(inputCols = cols, outputCol = 'predictions')\n",
    "joined_df = vecAssembler.transform(joined_df)"
   ]
  },
  {
   "cell_type": "code",
   "execution_count": 81,
   "metadata": {},
   "outputs": [
    {
     "data": {
      "text/plain": [
       "[Row(movie_id='1335380', prediction0=0.0, prediction1=1.0, prediction2=0.0, prediction3=1.0, prediction4=0.0, prediction5=1.0, prediction6=0.0, prediction7=1.0, prediction8=0.0, prediction9=1.0, prediction10=1.0, prediction11=1.0, prediction12=0.0, prediction13=0.0, prediction14=0.0, prediction15=0.0, prediction16=0.0, prediction17=0.0, prediction18=0.0, prediction19=1.0, predictions=SparseVector(20, {1: 1.0, 3: 1.0, 5: 1.0, 7: 1.0, 9: 1.0, 10: 1.0, 11: 1.0, 19: 1.0})),\n",
       " Row(movie_id='29062594', prediction0=1.0, prediction1=1.0, prediction2=0.0, prediction3=0.0, prediction4=0.0, prediction5=1.0, prediction6=0.0, prediction7=1.0, prediction8=0.0, prediction9=0.0, prediction10=0.0, prediction11=0.0, prediction12=0.0, prediction13=0.0, prediction14=0.0, prediction15=0.0, prediction16=0.0, prediction17=0.0, prediction18=0.0, prediction19=1.0, predictions=SparseVector(20, {0: 1.0, 1: 1.0, 5: 1.0, 7: 1.0, 19: 1.0})),\n",
       " Row(movie_id='9252321', prediction0=0.0, prediction1=1.0, prediction2=0.0, prediction3=0.0, prediction4=0.0, prediction5=1.0, prediction6=0.0, prediction7=1.0, prediction8=0.0, prediction9=1.0, prediction10=0.0, prediction11=1.0, prediction12=0.0, prediction13=0.0, prediction14=0.0, prediction15=0.0, prediction16=0.0, prediction17=0.0, prediction18=0.0, prediction19=1.0, predictions=SparseVector(20, {1: 1.0, 5: 1.0, 7: 1.0, 9: 1.0, 11: 1.0, 19: 1.0})),\n",
       " Row(movie_id='13455076', prediction0=0.0, prediction1=0.0, prediction2=0.0, prediction3=0.0, prediction4=0.0, prediction5=1.0, prediction6=0.0, prediction7=0.0, prediction8=0.0, prediction9=1.0, prediction10=0.0, prediction11=0.0, prediction12=0.0, prediction13=0.0, prediction14=0.0, prediction15=0.0, prediction16=0.0, prediction17=0.0, prediction18=1.0, prediction19=1.0, predictions=SparseVector(20, {5: 1.0, 9: 1.0, 18: 1.0, 19: 1.0})),\n",
       " Row(movie_id='24165951', prediction0=0.0, prediction1=0.0, prediction2=0.0, prediction3=1.0, prediction4=0.0, prediction5=0.0, prediction6=0.0, prediction7=1.0, prediction8=0.0, prediction9=1.0, prediction10=1.0, prediction11=1.0, prediction12=0.0, prediction13=0.0, prediction14=0.0, prediction15=0.0, prediction16=0.0, prediction17=0.0, prediction18=1.0, prediction19=0.0, predictions=SparseVector(20, {3: 1.0, 7: 1.0, 9: 1.0, 10: 1.0, 11: 1.0, 18: 1.0}))]"
      ]
     },
     "execution_count": 81,
     "metadata": {},
     "output_type": "execute_result"
    }
   ],
   "source": [
    "joined_df.head(5)"
   ]
  },
  {
   "cell_type": "code",
   "execution_count": 82,
   "metadata": {},
   "outputs": [],
   "source": [
    "from pyspark.sql.types import *\n",
    "vector_udf = udf(lambda vector: vector.toArray().tolist(),ArrayType(DoubleType()))\n",
    "joined_df = joined_df.withColumn('predictions',vector_udf('predictions'))   "
   ]
  },
  {
   "cell_type": "code",
   "execution_count": 83,
   "metadata": {},
   "outputs": [
    {
     "name": "stdout",
     "output_type": "stream",
     "text": [
      "+--------+-----------+-----------+-----------+-----------+-----------+-----------+-----------+-----------+-----------+-----------+------------+------------+------------+------------+------------+------------+------------+------------+------------+------------+--------------------+\n",
      "|movie_id|prediction0|prediction1|prediction2|prediction3|prediction4|prediction5|prediction6|prediction7|prediction8|prediction9|prediction10|prediction11|prediction12|prediction13|prediction14|prediction15|prediction16|prediction17|prediction18|prediction19|         predictions|\n",
      "+--------+-----------+-----------+-----------+-----------+-----------+-----------+-----------+-----------+-----------+-----------+------------+------------+------------+------------+------------+------------+------------+------------+------------+------------+--------------------+\n",
      "| 1335380|        0.0|        1.0|        0.0|        1.0|        0.0|        1.0|        0.0|        1.0|        0.0|        1.0|         1.0|         1.0|         0.0|         0.0|         0.0|         0.0|         0.0|         0.0|         0.0|         1.0|[0.0, 1.0, 0.0, 1...|\n",
      "|29062594|        1.0|        1.0|        0.0|        0.0|        0.0|        1.0|        0.0|        1.0|        0.0|        0.0|         0.0|         0.0|         0.0|         0.0|         0.0|         0.0|         0.0|         0.0|         0.0|         1.0|[1.0, 1.0, 0.0, 0...|\n",
      "| 9252321|        0.0|        1.0|        0.0|        0.0|        0.0|        1.0|        0.0|        1.0|        0.0|        1.0|         0.0|         1.0|         0.0|         0.0|         0.0|         0.0|         0.0|         0.0|         0.0|         1.0|[0.0, 1.0, 0.0, 0...|\n",
      "|13455076|        0.0|        0.0|        0.0|        0.0|        0.0|        1.0|        0.0|        0.0|        0.0|        1.0|         0.0|         0.0|         0.0|         0.0|         0.0|         0.0|         0.0|         0.0|         1.0|         1.0|[0.0, 0.0, 0.0, 0...|\n",
      "|24165951|        0.0|        0.0|        0.0|        1.0|        0.0|        0.0|        0.0|        1.0|        0.0|        1.0|         1.0|         1.0|         0.0|         0.0|         0.0|         0.0|         0.0|         0.0|         1.0|         0.0|[0.0, 0.0, 0.0, 1...|\n",
      "| 1925869|        0.0|        1.0|        0.0|        1.0|        0.0|        1.0|        0.0|        1.0|        0.0|        1.0|         1.0|         1.0|         0.0|         0.0|         0.0|         0.0|         0.0|         0.0|         1.0|         0.0|[0.0, 1.0, 0.0, 1...|\n",
      "|10799612|        0.0|        1.0|        0.0|        0.0|        1.0|        0.0|        0.0|        1.0|        0.0|        1.0|         0.0|         1.0|         0.0|         0.0|         0.0|         0.0|         0.0|         0.0|         1.0|         0.0|[0.0, 1.0, 0.0, 0...|\n",
      "|28238240|        0.0|        0.0|        0.0|        0.0|        0.0|        0.0|        0.0|        1.0|        1.0|        0.0|         0.0|         0.0|         0.0|         0.0|         0.0|         0.0|         0.0|         0.0|         0.0|         0.0|[0.0, 0.0, 0.0, 0...|\n",
      "|17124781|        0.0|        0.0|        0.0|        1.0|        0.0|        1.0|        0.0|        1.0|        0.0|        1.0|         1.0|         1.0|         0.0|         0.0|         0.0|         0.0|         0.0|         0.0|         1.0|         0.0|[0.0, 0.0, 0.0, 1...|\n",
      "|28207941|        0.0|        0.0|        0.0|        1.0|        0.0|        0.0|        0.0|        1.0|        1.0|        0.0|         0.0|         0.0|         0.0|         0.0|         0.0|         1.0|         0.0|         0.0|         1.0|         0.0|[0.0, 0.0, 0.0, 1...|\n",
      "|19174305|        0.0|        1.0|        0.0|        0.0|        0.0|        1.0|        0.0|        1.0|        1.0|        0.0|         1.0|         1.0|         0.0|         0.0|         0.0|         0.0|         0.0|         0.0|         1.0|         0.0|[0.0, 1.0, 0.0, 0...|\n",
      "|18392317|        0.0|        0.0|        0.0|        0.0|        0.0|        0.0|        0.0|        1.0|        1.0|        0.0|         0.0|         0.0|         1.0|         1.0|         0.0|         1.0|         0.0|         0.0|         1.0|         0.0|[0.0, 0.0, 0.0, 0...|\n",
      "|34420857|        0.0|        0.0|        0.0|        0.0|        1.0|        1.0|        0.0|        1.0|        0.0|        1.0|         0.0|         1.0|         0.0|         0.0|         0.0|         0.0|         0.0|         0.0|         1.0|         0.0|[0.0, 0.0, 0.0, 0...|\n",
      "| 4039635|        0.0|        0.0|        0.0|        1.0|        0.0|        0.0|        0.0|        1.0|        0.0|        0.0|         1.0|         1.0|         1.0|         0.0|         0.0|         0.0|         0.0|         0.0|         1.0|         0.0|[0.0, 0.0, 0.0, 1...|\n",
      "| 8034072|        0.0|        1.0|        1.0|        0.0|        0.0|        1.0|        0.0|        1.0|        1.0|        0.0|         0.0|         0.0|         0.0|         0.0|         0.0|         0.0|         0.0|         0.0|         0.0|         0.0|[0.0, 1.0, 1.0, 0...|\n",
      "| 4016437|        0.0|        1.0|        0.0|        0.0|        0.0|        1.0|        0.0|        1.0|        0.0|        1.0|         1.0|         1.0|         0.0|         0.0|         0.0|         0.0|         0.0|         0.0|         0.0|         0.0|[0.0, 1.0, 0.0, 0...|\n",
      "| 1520023|        0.0|        1.0|        0.0|        1.0|        0.0|        0.0|        0.0|        1.0|        1.0|        0.0|         1.0|         1.0|         1.0|         0.0|         0.0|         0.0|         0.0|         0.0|         1.0|         0.0|[0.0, 1.0, 0.0, 1...|\n",
      "|24589422|        0.0|        1.0|        0.0|        0.0|        0.0|        1.0|        0.0|        1.0|        1.0|        0.0|         0.0|         0.0|         0.0|         0.0|         0.0|         0.0|         0.0|         0.0|         0.0|         0.0|[0.0, 1.0, 0.0, 0...|\n",
      "|35068740|        0.0|        1.0|        0.0|        0.0|        0.0|        1.0|        0.0|        1.0|        1.0|        1.0|         0.0|         0.0|         0.0|         0.0|         0.0|         0.0|         0.0|         0.0|         1.0|         0.0|[0.0, 1.0, 0.0, 0...|\n",
      "|21132951|        0.0|        1.0|        0.0|        0.0|        0.0|        0.0|        0.0|        1.0|        0.0|        1.0|         0.0|         1.0|         0.0|         0.0|         0.0|         0.0|         0.0|         0.0|         0.0|         0.0|[0.0, 1.0, 0.0, 0...|\n",
      "+--------+-----------+-----------+-----------+-----------+-----------+-----------+-----------+-----------+-----------+-----------+------------+------------+------------+------------+------------+------------+------------+------------+------------+------------+--------------------+\n",
      "only showing top 20 rows\n",
      "\n"
     ]
    }
   ],
   "source": [
    "joined_df.show()"
   ]
  },
  {
   "cell_type": "code",
   "execution_count": 97,
   "metadata": {},
   "outputs": [],
   "source": [
    "def get_prediction_string(prediction):\n",
    "    predictions = \"\"\n",
    "    for i in range(len(prediction)):\n",
    "        predictions += str(int(prediction[i]))+\" \"\n",
    "    predictions = predictions.rstrip(\" \")\n",
    "    return predictions"
   ]
  },
  {
   "cell_type": "code",
   "execution_count": 98,
   "metadata": {},
   "outputs": [],
   "source": [
    "from pyspark.sql import types\n",
    "udffunc = udf(get_prediction_string, types.StringType())\n",
    "new_df = joined_df.withColumn('predictions', udffunc('predictions')) "
   ]
  },
  {
   "cell_type": "code",
   "execution_count": 87,
   "metadata": {},
   "outputs": [
    {
     "name": "stdout",
     "output_type": "stream",
     "text": [
      "+--------+-----------+-----------+-----------+-----------+-----------+-----------+-----------+-----------+-----------+-----------+------------+------------+------------+------------+------------+------------+------------+------------+------------+------------+--------------------+\n",
      "|movie_id|prediction0|prediction1|prediction2|prediction3|prediction4|prediction5|prediction6|prediction7|prediction8|prediction9|prediction10|prediction11|prediction12|prediction13|prediction14|prediction15|prediction16|prediction17|prediction18|prediction19|         predictions|\n",
      "+--------+-----------+-----------+-----------+-----------+-----------+-----------+-----------+-----------+-----------+-----------+------------+------------+------------+------------+------------+------------+------------+------------+------------+------------+--------------------+\n",
      "| 1335380|        0.0|        1.0|        0.0|        1.0|        0.0|        1.0|        0.0|        1.0|        0.0|        1.0|         1.0|         1.0|         0.0|         0.0|         0.0|         0.0|         0.0|         0.0|         0.0|         1.0|0 1 0 1 0 1 0 1 0...|\n",
      "|29062594|        1.0|        1.0|        0.0|        0.0|        0.0|        1.0|        0.0|        1.0|        0.0|        0.0|         0.0|         0.0|         0.0|         0.0|         0.0|         0.0|         0.0|         0.0|         0.0|         1.0|1 1 0 0 0 1 0 1 0...|\n",
      "| 9252321|        0.0|        1.0|        0.0|        0.0|        0.0|        1.0|        0.0|        1.0|        0.0|        1.0|         0.0|         1.0|         0.0|         0.0|         0.0|         0.0|         0.0|         0.0|         0.0|         1.0|0 1 0 0 0 1 0 1 0...|\n",
      "|13455076|        0.0|        0.0|        0.0|        0.0|        0.0|        1.0|        0.0|        0.0|        0.0|        1.0|         0.0|         0.0|         0.0|         0.0|         0.0|         0.0|         0.0|         0.0|         1.0|         1.0|0 0 0 0 0 1 0 0 0...|\n",
      "|24165951|        0.0|        0.0|        0.0|        1.0|        0.0|        0.0|        0.0|        1.0|        0.0|        1.0|         1.0|         1.0|         0.0|         0.0|         0.0|         0.0|         0.0|         0.0|         1.0|         0.0|0 0 0 1 0 0 0 1 0...|\n",
      "| 1925869|        0.0|        1.0|        0.0|        1.0|        0.0|        1.0|        0.0|        1.0|        0.0|        1.0|         1.0|         1.0|         0.0|         0.0|         0.0|         0.0|         0.0|         0.0|         1.0|         0.0|0 1 0 1 0 1 0 1 0...|\n",
      "|10799612|        0.0|        1.0|        0.0|        0.0|        1.0|        0.0|        0.0|        1.0|        0.0|        1.0|         0.0|         1.0|         0.0|         0.0|         0.0|         0.0|         0.0|         0.0|         1.0|         0.0|0 1 0 0 1 0 0 1 0...|\n",
      "|28238240|        0.0|        0.0|        0.0|        0.0|        0.0|        0.0|        0.0|        1.0|        1.0|        0.0|         0.0|         0.0|         0.0|         0.0|         0.0|         0.0|         0.0|         0.0|         0.0|         0.0|0 0 0 0 0 0 0 1 1...|\n",
      "|17124781|        0.0|        0.0|        0.0|        1.0|        0.0|        1.0|        0.0|        1.0|        0.0|        1.0|         1.0|         1.0|         0.0|         0.0|         0.0|         0.0|         0.0|         0.0|         1.0|         0.0|0 0 0 1 0 1 0 1 0...|\n",
      "|28207941|        0.0|        0.0|        0.0|        1.0|        0.0|        0.0|        0.0|        1.0|        1.0|        0.0|         0.0|         0.0|         0.0|         0.0|         0.0|         1.0|         0.0|         0.0|         1.0|         0.0|0 0 0 1 0 0 0 1 1...|\n",
      "|19174305|        0.0|        1.0|        0.0|        0.0|        0.0|        1.0|        0.0|        1.0|        1.0|        0.0|         1.0|         1.0|         0.0|         0.0|         0.0|         0.0|         0.0|         0.0|         1.0|         0.0|0 1 0 0 0 1 0 1 1...|\n",
      "|18392317|        0.0|        0.0|        0.0|        0.0|        0.0|        0.0|        0.0|        1.0|        1.0|        0.0|         0.0|         0.0|         1.0|         1.0|         0.0|         1.0|         0.0|         0.0|         1.0|         0.0|0 0 0 0 0 0 0 1 1...|\n",
      "|34420857|        0.0|        0.0|        0.0|        0.0|        1.0|        1.0|        0.0|        1.0|        0.0|        1.0|         0.0|         1.0|         0.0|         0.0|         0.0|         0.0|         0.0|         0.0|         1.0|         0.0|0 0 0 0 1 1 0 1 0...|\n",
      "| 4039635|        0.0|        0.0|        0.0|        1.0|        0.0|        0.0|        0.0|        1.0|        0.0|        0.0|         1.0|         1.0|         1.0|         0.0|         0.0|         0.0|         0.0|         0.0|         1.0|         0.0|0 0 0 1 0 0 0 1 0...|\n",
      "| 8034072|        0.0|        1.0|        1.0|        0.0|        0.0|        1.0|        0.0|        1.0|        1.0|        0.0|         0.0|         0.0|         0.0|         0.0|         0.0|         0.0|         0.0|         0.0|         0.0|         0.0|0 1 1 0 0 1 0 1 1...|\n",
      "| 4016437|        0.0|        1.0|        0.0|        0.0|        0.0|        1.0|        0.0|        1.0|        0.0|        1.0|         1.0|         1.0|         0.0|         0.0|         0.0|         0.0|         0.0|         0.0|         0.0|         0.0|0 1 0 0 0 1 0 1 0...|\n",
      "| 1520023|        0.0|        1.0|        0.0|        1.0|        0.0|        0.0|        0.0|        1.0|        1.0|        0.0|         1.0|         1.0|         1.0|         0.0|         0.0|         0.0|         0.0|         0.0|         1.0|         0.0|0 1 0 1 0 0 0 1 1...|\n",
      "|24589422|        0.0|        1.0|        0.0|        0.0|        0.0|        1.0|        0.0|        1.0|        1.0|        0.0|         0.0|         0.0|         0.0|         0.0|         0.0|         0.0|         0.0|         0.0|         0.0|         0.0|0 1 0 0 0 1 0 1 1...|\n",
      "|35068740|        0.0|        1.0|        0.0|        0.0|        0.0|        1.0|        0.0|        1.0|        1.0|        1.0|         0.0|         0.0|         0.0|         0.0|         0.0|         0.0|         0.0|         0.0|         1.0|         0.0|0 1 0 0 0 1 0 1 1...|\n",
      "|21132951|        0.0|        1.0|        0.0|        0.0|        0.0|        0.0|        0.0|        1.0|        0.0|        1.0|         0.0|         1.0|         0.0|         0.0|         0.0|         0.0|         0.0|         0.0|         0.0|         0.0|0 1 0 0 0 0 0 1 0...|\n",
      "+--------+-----------+-----------+-----------+-----------+-----------+-----------+-----------+-----------+-----------+-----------+------------+------------+------------+------------+------------+------------+------------+------------+------------+------------+--------------------+\n",
      "only showing top 20 rows\n",
      "\n"
     ]
    }
   ],
   "source": [
    "new_df.show()"
   ]
  },
  {
   "cell_type": "code",
   "execution_count": 99,
   "metadata": {},
   "outputs": [],
   "source": [
    "drop_cols = []\n",
    "for i in range(len(l)):\n",
    "    drop_cols.append('prediction{}'.format(i))"
   ]
  },
  {
   "cell_type": "code",
   "execution_count": 100,
   "metadata": {},
   "outputs": [],
   "source": [
    "new_df = new_df.drop(*drop_cols)"
   ]
  },
  {
   "cell_type": "code",
   "execution_count": 101,
   "metadata": {},
   "outputs": [
    {
     "name": "stdout",
     "output_type": "stream",
     "text": [
      "+--------+--------------------+\n",
      "|movie_id|         predictions|\n",
      "+--------+--------------------+\n",
      "| 1335380|0 1 0 1 0 1 0 1 0...|\n",
      "|29062594|1 1 0 0 0 1 0 1 0...|\n",
      "| 9252321|0 1 0 0 0 1 0 1 0...|\n",
      "|13455076|0 0 0 0 0 1 0 0 0...|\n",
      "|24165951|0 0 0 1 0 0 0 1 0...|\n",
      "| 1925869|0 1 0 1 0 1 0 1 0...|\n",
      "|10799612|0 1 0 0 1 0 0 1 0...|\n",
      "|28238240|0 0 0 0 0 0 0 1 1...|\n",
      "|17124781|0 0 0 1 0 1 0 1 0...|\n",
      "|28207941|0 0 0 1 0 0 0 1 1...|\n",
      "|19174305|0 1 0 0 0 1 0 1 1...|\n",
      "|18392317|0 0 0 0 0 0 0 1 1...|\n",
      "|34420857|0 0 0 0 1 1 0 1 0...|\n",
      "| 4039635|0 0 0 1 0 0 0 1 0...|\n",
      "| 8034072|0 1 1 0 0 1 0 1 1...|\n",
      "| 4016437|0 1 0 0 0 1 0 1 0...|\n",
      "| 1520023|0 1 0 1 0 0 0 1 1...|\n",
      "|24589422|0 1 0 0 0 1 0 1 1...|\n",
      "|35068740|0 1 0 0 0 1 0 1 1...|\n",
      "|21132951|0 1 0 0 0 0 0 1 0...|\n",
      "+--------+--------------------+\n",
      "only showing top 20 rows\n",
      "\n"
     ]
    }
   ],
   "source": [
    "new_df.show()"
   ]
  },
  {
   "cell_type": "code",
   "execution_count": 102,
   "metadata": {},
   "outputs": [],
   "source": [
    "new_df.select('*').toPandas().to_csv(\"submission.csv\", index = False)"
   ]
  },
  {
   "cell_type": "code",
   "execution_count": null,
   "metadata": {},
   "outputs": [],
   "source": []
  }
 ],
 "metadata": {
  "kernelspec": {
   "display_name": "Python 3",
   "language": "python",
   "name": "python3"
  },
  "language_info": {
   "codemirror_mode": {
    "name": "ipython",
    "version": 3
   },
   "file_extension": ".py",
   "mimetype": "text/x-python",
   "name": "python",
   "nbconvert_exporter": "python",
   "pygments_lexer": "ipython3",
   "version": "3.6.8"
  }
 },
 "nbformat": 4,
 "nbformat_minor": 2
}
